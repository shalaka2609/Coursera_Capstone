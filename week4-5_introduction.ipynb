{
 "cells": [
  {
   "cell_type": "code",
   "execution_count": null,
   "metadata": {},
   "outputs": [],
   "source": [
    "Introduction \n",
    "The City of New York, is the most populous city in the United States. It is diverse and is the financial capital of USA. \n",
    "It is multicultural. It provides lot of business oppourtunities and business friendly environment. It has attracted many\n",
    "different players into the market. It is a global hub of business and commerce. The city is a major center for banking and\n",
    "finance, retailing, world trade, transportation, tourism, real estate, new media, traditional media, advertising, legal \n",
    "services, accountancy, insurance, theater, fashion, and the arts in the United States. This also means that the market is\n",
    "highly competitive. As it is highly developed city so cost of doing business is also one of the highest. Thus, any new \n",
    "business venture or expansion needs to be analysed carefully. The insights derived from analysis will give good understanding\n",
    "of the business environment which help in strategically targeting the market. This will help in reduction of risk. And the\n",
    "Return on Investment will be reasonable.\n",
    "\n",
    "Business problem\n",
    "\n",
    "The City of New York is famous for its excelllent cuisine. It's food culture includes an array of international cuisines \n",
    "influenced by the city's immigrant history.Sushi restaurants have become so popular in the United States now it seems \n",
    "that there is one on every corner, not only in major cities but also in smaller cities. Starting a sushi restaurant can\n",
    "be a great business opportunity, but you need to distinguish yourself from others to enjoy long-term success.\n",
    "\n",
    "Find a suitable location. \n",
    "\n",
    "If you plan a real restaurant that can demand higher prices for fresh fish, delivered daily from Japan, focus on neighborhoods\n",
    "and outlets that already attract a sophisticated Japanese client. If you plan a cheap buffet restaurant, points to the masses \n",
    "looking for affordable high-traffic locations with large shopping centers and other local points of interest. So it is evident\n",
    "that to survive in such competitive market it is very important to startegically plan. Various factors need to be studied\n",
    "inorder to decide on the Location\n",
    "\n",
    "Target Audience: \n",
    "\n",
    "My Client wants to open his business in Manhattan area, so I only focus on that borough during my analysis. The objective \n",
    "is to locate and recommend to the management which neighborhood of Newyork city will be best choice to start a restaurant.\n",
    "The Management also expects to understand the rationale of the recommendations made.\n",
    "This would interest anyone who wants to start a new restaurant in Newyork city.\n"
   ]
  }
 ],
 "metadata": {
  "kernelspec": {
   "display_name": "Python 3",
   "language": "python",
   "name": "python3"
  },
  "language_info": {
   "codemirror_mode": {
    "name": "ipython",
    "version": 3
   },
   "file_extension": ".py",
   "mimetype": "text/x-python",
   "name": "python",
   "nbconvert_exporter": "python",
   "pygments_lexer": "ipython3",
   "version": "3.6.7"
  }
 },
 "nbformat": 4,
 "nbformat_minor": 2
}
